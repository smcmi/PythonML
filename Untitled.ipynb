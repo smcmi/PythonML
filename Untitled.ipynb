{
 "cells": [
  {
   "cell_type": "code",
   "execution_count": 199,
   "id": "9a43a096",
   "metadata": {},
   "outputs": [],
   "source": [
    "import importlib\n",
    "import linReg as lr\n",
    "importlib.reload(lr);"
   ]
  },
  {
   "cell_type": "code",
   "execution_count": 200,
   "id": "9dd760b1",
   "metadata": {},
   "outputs": [],
   "source": [
    "df = pd.read_csv('C:\\\\users\\\\sminter\\\\desktop\\\\Python Udemy Course\\\\2. course overview lecture\\\\08-linear-regression-models\\\\Advertising.csv')"
   ]
  },
  {
   "cell_type": "code",
   "execution_count": 201,
   "id": "d4f9404c",
   "metadata": {},
   "outputs": [
    {
     "data": {
      "text/plain": [
       "(200, 3)"
      ]
     },
     "execution_count": 201,
     "metadata": {},
     "output_type": "execute_result"
    }
   ],
   "source": [
    "X = df.drop('sales',axis=1)\n",
    "y = df['sales']\n",
    "X.shape"
   ]
  },
  {
   "cell_type": "code",
   "execution_count": 202,
   "id": "16d05aff",
   "metadata": {},
   "outputs": [],
   "source": [
    "# [elastic_model, MAE_elastic, RSME_elastic] = lr.runElasticNet(X,y,degree=1,train_size=0.7,random_state=101)"
   ]
  },
  {
   "cell_type": "code",
   "execution_count": 203,
   "id": "2af631c4",
   "metadata": {},
   "outputs": [],
   "source": [
    "# [MAE_elastic, RSME_elastic]"
   ]
  },
  {
   "cell_type": "code",
   "execution_count": 204,
   "id": "7971ea53",
   "metadata": {},
   "outputs": [
    {
     "name": "stdout",
     "output_type": "stream",
     "text": [
      "(139, 3)\n"
     ]
    }
   ],
   "source": [
    "[lasso_model, MAE_lasso, RSME_lasso] = lr.runLasso(X,y,degree=3,train_size=0.7,random_state=101)"
   ]
  },
  {
   "cell_type": "code",
   "execution_count": 205,
   "id": "07fd7bc2",
   "metadata": {},
   "outputs": [
    {
     "data": {
      "text/plain": [
       "[1.2666212311875835, 1.6804731033384772]"
      ]
     },
     "execution_count": 205,
     "metadata": {},
     "output_type": "execute_result"
    }
   ],
   "source": [
    "[MAE_lasso, RSME_lasso]"
   ]
  },
  {
   "cell_type": "code",
   "execution_count": 206,
   "id": "0fee333a",
   "metadata": {},
   "outputs": [
    {
     "data": {
      "text/plain": [
       "0.39781794147298544"
      ]
     },
     "execution_count": 206,
     "metadata": {},
     "output_type": "execute_result"
    }
   ],
   "source": [
    "lasso_model.alpha_"
   ]
  },
  {
   "cell_type": "code",
   "execution_count": 207,
   "id": "f18c51b5",
   "metadata": {},
   "outputs": [
    {
     "data": {
      "text/plain": [
       "array([3.40490677, 2.40133935, 0.        ])"
      ]
     },
     "execution_count": 207,
     "metadata": {},
     "output_type": "execute_result"
    }
   ],
   "source": [
    "lasso_model.coef_"
   ]
  },
  {
   "cell_type": "code",
   "execution_count": null,
   "id": "14a06940",
   "metadata": {},
   "outputs": [],
   "source": []
  },
  {
   "cell_type": "code",
   "execution_count": null,
   "id": "fee0be80",
   "metadata": {},
   "outputs": [],
   "source": []
  },
  {
   "cell_type": "code",
   "execution_count": null,
   "id": "c309febf",
   "metadata": {},
   "outputs": [],
   "source": []
  }
 ],
 "metadata": {
  "kernelspec": {
   "display_name": "Python 3 (ipykernel)",
   "language": "python",
   "name": "python3"
  },
  "language_info": {
   "codemirror_mode": {
    "name": "ipython",
    "version": 3
   },
   "file_extension": ".py",
   "mimetype": "text/x-python",
   "name": "python",
   "nbconvert_exporter": "python",
   "pygments_lexer": "ipython3",
   "version": "3.9.12"
  }
 },
 "nbformat": 4,
 "nbformat_minor": 5
}
